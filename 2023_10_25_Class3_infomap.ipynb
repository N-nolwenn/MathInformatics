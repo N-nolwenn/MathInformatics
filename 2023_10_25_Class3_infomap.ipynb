{
 "cells": [
  {
   "cell_type": "markdown",
   "id": "410c36a9",
   "metadata": {},
   "source": [
    "# Module"
   ]
  },
  {
   "cell_type": "code",
   "execution_count": 3,
   "id": "8ddeccfc",
   "metadata": {},
   "outputs": [
    {
     "name": "stdout",
     "output_type": "stream",
     "text": [
      "['blogcatalog', 'homosapiens', 'wikipos', 'enron', 'unvote', 'untrade', 'uslegis_net', 'uslegis_net_small_dyn', 'uslegis_net_dyn', 'uslegis_hyp_dyn', 'contacts', 'dawn_net', 'dawn_hyp', 'ndc_net', 'ndc_hyp', 'coauth_dblp_net', 'coauth_dblp_hyp', 'wiod2016', 'wiod2013', 'wiodlong', 'eth', 'bitcoinalpha', 'bitcoinotc', 'uscourt']\n",
      "We are going to use: enron\n"
     ]
    }
   ],
   "source": [
    "# From the repository\n",
    "from util import *\n",
    "from read_data import *\n",
    "data_names = list(name2file_name.keys())\n",
    "print(data_names)\n",
    "\n",
    "# Basic modules\n",
    "import os\n",
    "import glob\n",
    "import networkx as nx\n",
    "import numpy as np\n",
    "import pandas as pd\n",
    "import matplotlib.pyplot as plt\n",
    "import seaborn as sns\n",
    "from infomap import Infomap\n",
    "\n",
    "\n",
    "#name = \"wiod2016\"\n",
    "name = data_names[3]\n",
    "print(\"We are going to use: \" + name)\n",
    "# Enable original_format to use the format as originally provided\n",
    "data_dict = get_data(name,original_format=False)\n",
    "data_dict.keys()\n",
    "#df_nodes = data_dict[\"df_nodes\"]\n",
    "df_edges = data_dict[\"df_edges\"]"
   ]
  },
  {
   "cell_type": "code",
   "execution_count": null,
   "id": "3e84c8ac",
   "metadata": {},
   "outputs": [],
   "source": []
  },
  {
   "cell_type": "markdown",
   "id": "15b2bba6",
   "metadata": {},
   "source": [
    "# Get rid of duplicates"
   ]
  },
  {
   "cell_type": "code",
   "execution_count": 4,
   "id": "7a690652",
   "metadata": {},
   "outputs": [],
   "source": [
    "df_edges = df_edges[[\"source\",\"target\"]].copy()\n",
    "df_edges.drop_duplicates(inplace=True)"
   ]
  },
  {
   "cell_type": "code",
   "execution_count": null,
   "id": "1851e17e",
   "metadata": {},
   "outputs": [],
   "source": []
  },
  {
   "cell_type": "markdown",
   "id": "81bc1866",
   "metadata": {},
   "source": [
    "# Infomap"
   ]
  },
  {
   "cell_type": "code",
   "execution_count": 5,
   "id": "d8205064",
   "metadata": {},
   "outputs": [],
   "source": [
    "im = Infomap(\"--two-level --directed\")"
   ]
  },
  {
   "cell_type": "code",
   "execution_count": 6,
   "id": "78b59e23",
   "metadata": {},
   "outputs": [],
   "source": [
    "for i in range(len(df_edges)):\n",
    "    if df_edges[\"source\"].iloc[i] != df_edges[\"target\"].iloc[i]:\n",
    "        im.add_link(df_edges[\"source\"].iloc[i],df_edges[\"target\"].iloc[i])"
   ]
  },
  {
   "cell_type": "code",
   "execution_count": 7,
   "id": "f3c18515",
   "metadata": {},
   "outputs": [
    {
     "name": "stdout",
     "output_type": "stream",
     "text": [
      "CPU times: user 193 ms, sys: 15.5 ms, total: 209 ms\n",
      "Wall time: 74.9 ms\n"
     ]
    },
    {
     "name": "stdout",
     "output_type": "stream",
     "text": [
      "=======================================================\n",
      "  Infomap v2.7.1 starts at 2023-10-25 14:20:49\n",
      "  -> Input network: \n",
      "  -> No file output!\n",
      "  -> Configuration: two-level\n",
      "                    directed\n",
      "=======================================================\n",
      "  OpenMP 201511 detected with 6 threads...\n",
      "  -> Ordinary network input, using the Map Equation for first order network flows\n",
      "Calculating global network flow using flow model 'directed'... \n",
      "  -> Using unrecorded teleportation to links. \n",
      "  -> PageRank calculation done in 200 iterations.\n",
      "\n",
      "  => Sum node flow: 1, sum link flow: 1\n",
      "Build internal network with 182 nodes and 3007 links...\n",
      "  -> One-level codelength: 7.23652232\n",
      "\n",
      "================================================\n",
      "Trial 1/1 starting at 2023-10-25 14:20:49\n",
      "================================================\n",
      "Two-level compression: 4.3% 1.4% \n",
      "Partitioned to codelength 1.12238293 + 5.70095333 = 6.82333626 in 9 (8 non-trivial) modules.\n",
      "\n",
      "=> Trial 1/1 finished in 0.003857458s with codelength 6.82333626\n",
      "\n",
      "\n",
      "================================================\n",
      "Summary after 1 trial\n",
      "================================================\n",
      "Best end modular solution in 2 levels:\n",
      "Per level number of modules:         [          9,           0] (sum: 9)\n",
      "Per level number of leaf nodes:      [          0,         182] (sum: 182)\n",
      "Per level average child degree:      [          9,     20.2222] (average: 19.6934)\n",
      "Per level codelength for modules:    [1.122382934, 0.000000000] (sum: 1.122382934)\n",
      "Per level codelength for leaf nodes: [0.000000000, 5.700953326] (sum: 5.700953326)\n",
      "Per level codelength total:          [1.122382934, 5.700953326] (sum: 6.823336260)\n",
      "\n",
      "===================================================\n",
      "  Infomap ends at 2023-10-25 14:20:49\n",
      "  (Elapsed time: 0.073742368s)\n",
      "===================================================\n"
     ]
    }
   ],
   "source": [
    "%%time\n",
    "im.run()"
   ]
  },
  {
   "cell_type": "code",
   "execution_count": 8,
   "id": "6cf36fe3",
   "metadata": {},
   "outputs": [
    {
     "name": "stdout",
     "output_type": "stream",
     "text": [
      "Found 9 modules with codelength: 6.823336260489542\n",
      "Result\n",
      "\n",
      "#node module\n"
     ]
    }
   ],
   "source": [
    "print(f\"Found {im.num_top_modules} modules with codelength: {im.codelength}\")\n",
    "\n",
    "print(\"Result\")\n",
    "print(\"\\n#node module\")\n",
    "out = []\n",
    "for node in im.tree:\n",
    "    if node.is_leaf:\n",
    "        out.append([node.node_id,node.module_id])"
   ]
  },
  {
   "cell_type": "code",
   "execution_count": null,
   "id": "d15b7896",
   "metadata": {},
   "outputs": [],
   "source": []
  },
  {
   "cell_type": "markdown",
   "id": "e4177260",
   "metadata": {},
   "source": [
    "# Write results"
   ]
  },
  {
   "cell_type": "code",
   "execution_count": 9,
   "id": "ddb395db",
   "metadata": {},
   "outputs": [],
   "source": [
    "df_info = pd.DataFrame(out)\n",
    "df_info.columns = [\"Id\",\"info_group\"]"
   ]
  },
  {
   "cell_type": "code",
   "execution_count": 10,
   "id": "4673dc76",
   "metadata": {},
   "outputs": [],
   "source": [
    "df_info.to_csv(\"./tables/df_info.csv\",index=False)"
   ]
  },
  {
   "cell_type": "code",
   "execution_count": null,
   "id": "c53155dd",
   "metadata": {},
   "outputs": [],
   "source": []
  },
  {
   "cell_type": "code",
   "execution_count": null,
   "id": "68b63c02",
   "metadata": {},
   "outputs": [],
   "source": []
  }
 ],
 "metadata": {
  "kernelspec": {
   "display_name": "Python 3 (ipykernel)",
   "language": "python",
   "name": "python3"
  },
  "language_info": {
   "codemirror_mode": {
    "name": "ipython",
    "version": 3
   },
   "file_extension": ".py",
   "mimetype": "text/x-python",
   "name": "python",
   "nbconvert_exporter": "python",
   "pygments_lexer": "ipython3",
   "version": "3.10.12"
  }
 },
 "nbformat": 4,
 "nbformat_minor": 5
}
